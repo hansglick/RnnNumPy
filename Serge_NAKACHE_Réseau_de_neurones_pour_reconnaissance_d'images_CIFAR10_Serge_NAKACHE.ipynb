{
  "nbformat": 4,
  "nbformat_minor": 0,
  "metadata": {
    "colab": {
      "name": "Serge NAKACHE - Réseau de neurones pour reconnaissance d'images - CIFAR10 - Serge NAKACHE.ipynb",
      "provenance": [],
      "collapsed_sections": [],
      "include_colab_link": true
    },
    "kernelspec": {
      "name": "python3",
      "display_name": "Python 3"
    },
    "accelerator": "TPU"
  },
  "cells": [
    {
      "cell_type": "markdown",
      "metadata": {
        "id": "view-in-github",
        "colab_type": "text"
      },
      "source": [
        "<a href=\"https://colab.research.google.com/github/hansglick/RnnNumPy/blob/master/Serge_NAKACHE_R%C3%A9seau_de_neurones_pour_reconnaissance_d'images_CIFAR10_Serge_NAKACHE.ipynb\" target=\"_parent\"><img src=\"https://colab.research.google.com/assets/colab-badge.svg\" alt=\"Open In Colab\"/></a>"
      ]
    },
    {
      "cell_type": "markdown",
      "metadata": {
        "id": "4qo829qtSALd",
        "colab_type": "text"
      },
      "source": [
        "# Installation de TensorFlow 2.0 et Chargement des librairies"
      ]
    },
    {
      "cell_type": "code",
      "metadata": {
        "id": "auhSOWvpNdI4",
        "colab_type": "code",
        "colab": {}
      },
      "source": [
        "# Installation de la version 2.0 de TensorFlow (la librairie de deep learning de Google)\n",
        "!pip install -q tensorflow==2.0.0-beta1"
      ],
      "execution_count": 0,
      "outputs": []
    },
    {
      "cell_type": "code",
      "metadata": {
        "id": "qzQvtMjANpfD",
        "colab_type": "code",
        "outputId": "00a1a95d-1843-4f49-ee6e-785dcb420048",
        "colab": {
          "base_uri": "https://localhost:8080/",
          "height": 51
        }
      },
      "source": [
        "import tensorflow as tf\n",
        "import numpy as np\n",
        "from tensorflow.keras import datasets, layers, models\n",
        "import matplotlib.pyplot as plt\n",
        "# Vérification qu'on a bien la version 2.0\n",
        "print(\"\")\n",
        "print(\"La version de TensorFlow utilisée est \" + tf.__version__)"
      ],
      "execution_count": 0,
      "outputs": [
        {
          "output_type": "stream",
          "text": [
            "\n",
            "La version de TensorFlow utilisée est 2.0.0-beta1\n"
          ],
          "name": "stdout"
        }
      ]
    },
    {
      "cell_type": "markdown",
      "metadata": {
        "id": "lP0bgxiySUeG",
        "colab_type": "text"
      },
      "source": [
        "# Téléchargement et Exploration du dataset CIFAR10\n",
        "On utilise le jeu de données du [CIFAR10 Project](https://www.cs.toronto.edu/~kriz/cifar.html) de Toronto University\n"
      ]
    },
    {
      "cell_type": "code",
      "metadata": {
        "id": "lnFFoKfvOR7G",
        "colab_type": "code",
        "outputId": "313f26db-0c8a-4a66-c939-9bcd81a58e93",
        "colab": {
          "base_uri": "https://localhost:8080/",
          "height": 51
        }
      },
      "source": [
        "# TéléChargement du dataset CIFAR10, dataset contenant 60,000 images réparties en 10 classes (6,000 images par classe)\n",
        "(train_images, train_labels), (test_images, test_labels) = datasets.cifar10.load_data()\n",
        "class_names = ['airplane', 'automobile', 'bird', 'cat', 'deer',\n",
        "               'dog', 'frog', 'horse', 'ship', 'truck']"
      ],
      "execution_count": 0,
      "outputs": [
        {
          "output_type": "stream",
          "text": [
            "Downloading data from https://www.cs.toronto.edu/~kriz/cifar-10-python.tar.gz\n",
            "170500096/170498071 [==============================] - 2s 0us/step\n"
          ],
          "name": "stdout"
        }
      ]
    },
    {
      "cell_type": "code",
      "metadata": {
        "id": "KfZhMhOxQHft",
        "colab_type": "code",
        "outputId": "5f9f7e04-6e26-4e09-fbbf-73f5f2908dac",
        "colab": {
          "base_uri": "https://localhost:8080/",
          "height": 34
        }
      },
      "source": [
        "# Comme tu peux le voir une image est un tenseur, une matrice 32x32 pixels avec une profondeur de taille 3, pour les 3 couleurs Rouge, Vert, Bleu\n",
        "# La dimension de l'image n°0\n",
        "print (train_images[0].shape) "
      ],
      "execution_count": 0,
      "outputs": [
        {
          "output_type": "stream",
          "text": [
            "(32, 32, 3)\n"
          ],
          "name": "stdout"
        }
      ]
    },
    {
      "cell_type": "code",
      "metadata": {
        "id": "GBmDbGBTQy-T",
        "colab_type": "code",
        "outputId": "f6b011f9-d655-4e95-dbd5-7908d24dd644",
        "colab": {
          "base_uri": "https://localhost:8080/",
          "height": 272
        }
      },
      "source": [
        "# Le tenseur représenant l'image n°0, les valeurs représentent de la couleur [0..255] pour les trois couches R,V,B\n",
        "# Les 15 premiers pixels de l'image n°0\n",
        "train_images[0][1][:15]\n"
      ],
      "execution_count": 0,
      "outputs": [
        {
          "output_type": "execute_result",
          "data": {
            "text/plain": [
              "array([[ 16,  20,  20],\n",
              "       [  0,   0,   0],\n",
              "       [ 18,   8,   0],\n",
              "       [ 51,  27,   8],\n",
              "       [ 88,  51,  21],\n",
              "       [120,  82,  43],\n",
              "       [128,  89,  45],\n",
              "       [127,  86,  44],\n",
              "       [126,  87,  50],\n",
              "       [116,  79,  44],\n",
              "       [106,  70,  37],\n",
              "       [101,  67,  35],\n",
              "       [105,  70,  36],\n",
              "       [113,  74,  35],\n",
              "       [109,  70,  33]], dtype=uint8)"
            ]
          },
          "metadata": {
            "tags": []
          },
          "execution_count": 7
        }
      ]
    },
    {
      "cell_type": "code",
      "metadata": {
        "colab_type": "code",
        "outputId": "f59daf55-58dc-46a6-a782-c86b9057af0a",
        "id": "PtxMvq-VU12L",
        "colab": {
          "base_uri": "https://localhost:8080/",
          "height": 300
        }
      },
      "source": [
        "# Affichage de l'image 21\n",
        "image_id = 21 # Tu parcourir le dataset en changeant l'index du dataset\n",
        "image_label = class_names[train_labels[image_id][0]]\n",
        "image_tensor =  train_images[image_id]\n",
        "plt.imshow(image_tensor, cmap=plt.cm.binary)\n",
        "print (\"Le label de l'image n°{} est :\\n{}\".format(image_id,str(image_label)))"
      ],
      "execution_count": 0,
      "outputs": [
        {
          "output_type": "stream",
          "text": [
            "Le label de l'image n°21 est :\n",
            "cat\n"
          ],
          "name": "stdout"
        },
        {
          "output_type": "display_data",
          "data": {
            "image/png": "[encoded data removed]",
            "text/plain": [
              "<Figure size 432x288 with 1 Axes>"
            ]
          },
          "metadata": {
            "tags": []
          }
        }
      ]
    },
    {
      "cell_type": "markdown",
      "metadata": {
        "id": "_UIXJXIUVM-y",
        "colab_type": "text"
      },
      "source": [
        "# Un minimum de features engineering s'impose ..."
      ]
    },
    {
      "cell_type": "code",
      "metadata": {
        "id": "JYrk6F3wVVka",
        "colab_type": "code",
        "colab": {}
      },
      "source": [
        "# Afin d'accélerer la convergence du gradient descent il est recommandé de normaliser les valeurs des pixels entre 0 et 1\n",
        "train_images_normalized, test_images_normalized = train_images / 255.0, test_images / 255.0"
      ],
      "execution_count": 0,
      "outputs": []
    },
    {
      "cell_type": "markdown",
      "metadata": {
        "id": "-05I8HE8VbbP",
        "colab_type": "text"
      },
      "source": [
        "# Définition de l'Architecture du réseau de neurones"
      ]
    },
    {
      "cell_type": "code",
      "metadata": {
        "id": "OQDleptyViJT",
        "colab_type": "code",
        "colab": {}
      },
      "source": [
        "# Il s'agit d'un réseau de neurones à 5 couches de type CNN (c'est un peu particulier, je rentre pas dans le détails)\n",
        "# Tu peux voir les fonctions d'activations relu\n",
        "# Tu peux voir que la dernière couche contient 10 neurones avec une fonction d'activation Softmax pour la prédiction finale\n",
        "# C'est un modèle assez primaire pour de la reconnaissance d'images, peu de couches, et pas de régularisation\n",
        "model = models.Sequential()\n",
        "model.add(layers.Conv2D(32, (3, 3), activation='relu', input_shape=(32, 32, 3)))\n",
        "model.add(layers.MaxPooling2D((2, 2)))\n",
        "model.add(layers.Conv2D(64, (3, 3), activation='relu'))\n",
        "model.add(layers.MaxPooling2D((2, 2)))\n",
        "model.add(layers.Conv2D(64, (3, 3), activation='relu'))\n",
        "model.add(layers.Flatten())\n",
        "model.add(layers.Dense(64, activation='relu'))\n",
        "model.add(layers.Dense(10, activation='softmax'))"
      ],
      "execution_count": 0,
      "outputs": []
    },
    {
      "cell_type": "code",
      "metadata": {
        "id": "SUgmc8UzfvDe",
        "colab_type": "code",
        "colab": {}
      },
      "source": [
        "# Plusieurs specifies\n",
        " * "
      ],
      "execution_count": 0,
      "outputs": []
    },
    {
      "cell_type": "code",
      "metadata": {
        "id": "R8vP3_4oVZus",
        "colab_type": "code",
        "outputId": "18119ddc-9e94-471b-8367-ea55a15bb535",
        "colab": {
          "base_uri": "https://localhost:8080/",
          "height": 34
        }
      },
      "source": [
        "# Attribution des poids\n",
        " 1. \n"
      ],
      "execution_count": 0,
      "outputs": [
        {
          "output_type": "execute_result",
          "data": {
            "text/plain": [
              "1.0"
            ]
          },
          "metadata": {
            "tags": []
          },
          "execution_count": 11
        }
      ]
    },
    {
      "cell_type": "code",
      "metadata": {
        "id": "8r8QaXS4WYkx",
        "colab_type": "code",
        "outputId": "ca03e9e0-0824-4300-935d-b1d009541c25",
        "colab": {
          "base_uri": "https://localhost:8080/",
          "height": 425
        }
      },
      "source": [
        "# Tu peux voir le nombre de paramètres entraînés sur chaque couche\n",
        "# Le réseau de neurones contient comme tu peux le voir 122,570 paramètres (Rappel : 50,000 images dans le training set!!!)\n",
        "model.summary()"
      ],
      "execution_count": 0,
      "outputs": [
        {
          "output_type": "stream",
          "text": [
            "Model: \"sequential\"\n",
            "_________________________________________________________________\n",
            "Layer (type)                 Output Shape              Param #   \n",
            "=================================================================\n",
            "conv2d (Conv2D)              (None, 30, 30, 32)        896       \n",
            "_________________________________________________________________\n",
            "max_pooling2d (MaxPooling2D) (None, 15, 15, 32)        0         \n",
            "_________________________________________________________________\n",
            "conv2d_1 (Conv2D)            (None, 13, 13, 64)        18496     \n",
            "_________________________________________________________________\n",
            "max_pooling2d_1 (MaxPooling2 (None, 6, 6, 64)          0         \n",
            "_________________________________________________________________\n",
            "conv2d_2 (Conv2D)            (None, 4, 4, 64)          36928     \n",
            "_________________________________________________________________\n",
            "flatten (Flatten)            (None, 1024)              0         \n",
            "_________________________________________________________________\n",
            "dense (Dense)                (None, 64)                65600     \n",
            "_________________________________________________________________\n",
            "dense_1 (Dense)              (None, 10)                650       \n",
            "=================================================================\n",
            "Total params: 122,570\n",
            "Trainable params: 122,570\n",
            "Non-trainable params: 0\n",
            "_________________________________________________________________\n"
          ],
          "name": "stdout"
        }
      ]
    },
    {
      "cell_type": "markdown",
      "metadata": {
        "id": "SVCzvD83XT3j",
        "colab_type": "text"
      },
      "source": [
        "# Compilation du modèle"
      ]
    },
    {
      "cell_type": "code",
      "metadata": {
        "id": "FePxfD0mXUba",
        "colab_type": "code",
        "colab": {}
      },
      "source": [
        "# On définit quelques caractéristiques du réseau de neurones\n",
        "# ADAM est une méthode pas con de descente du gradient\n",
        "# Sparse Categomrcial Crossentropy est la fonction de coût utilisé (afin de mettre à jour les paramètres)\n",
        "# Accuracy est une métrique qu'on souhaite tracker à chaque epoch\n",
        "model.compile(optimizer='adam',\n",
        "              loss='sparse_categorical_crossentropy',\n",
        "              metrics=['accuracy'])"
      ],
      "execution_count": 0,
      "outputs": []
    },
    {
      "cell_type": "markdown",
      "metadata": {
        "id": "2GysG1LuG0Ps",
        "colab_type": "text"
      },
      "source": [
        ""
      ]
    },
    {
      "cell_type": "markdown",
      "metadata": {
        "id": "VoMhoAxdX7am",
        "colab_type": "text"
      },
      "source": [
        "# Entraînement du réseau de neurones\n",
        "Les choses sérieuses commencent, **il faut s'assurer qu'on a bien TPU (ou GPU)** de cochée quand on fait *Runtime/Change Runtime* Type dans Hardware Accelerator afin d'avoir accès à un serveur puissant"
      ]
    },
    {
      "cell_type": "code",
      "metadata": {
        "id": "jtLhXlDYX72w",
        "colab_type": "code",
        "outputId": "a1719a71-9f13-481b-e269-51baa3b6d974",
        "colab": {
          "base_uri": "https://localhost:8080/",
          "height": 445
        }
      },
      "source": [
        "# On entraîne le réseau pendant 10 \"époques\", i.e. on va parcourir 10 fois le dataset.\n",
        "# Les paramètres sont mis à jour plusieurs fois par époque et non une seule fois comme dans la descente du gradient classique (technique du minBatch Algorithm)\n",
        "TrainingHistory = model.fit(train_images_normalized, train_labels, epochs=10, validation_data=(test_images_normalized, test_labels))\n",
        "# A chaque batch, tu peux observer l'accuracy augmenter (en moyenne) sur le validation set (le test set quoi)\n",
        "# Batch : un échantillon du dataset, en général 64 ou 128 observations\n",
        "# Durée de l'entraînement : ~ 800 secondes (~12 min)"
      ],
      "execution_count": 0,
      "outputs": [
        {
          "output_type": "stream",
          "text": [
            "WARNING:tensorflow:From /usr/local/lib/python3.6/dist-packages/tensorflow/python/ops/math_grad.py:1250: add_dispatch_support.<locals>.wrapper (from tensorflow.python.ops.array_ops) is deprecated and will be removed in a future version.\n",
            "Instructions for updating:\n",
            "Use tf.where in 2.0, which has the same broadcast rule as np.where\n",
            "Train on 50000 samples, validate on 10000 samples\n",
            "Epoch 1/10\n",
            "50000/50000 [==============================] - 74s 1ms/sample - loss: 1.5106 - accuracy: 0.4517 - val_loss: 1.2050 - val_accuracy: 0.5699\n",
            "Epoch 2/10\n",
            "50000/50000 [==============================] - 74s 1ms/sample - loss: 1.1304 - accuracy: 0.6009 - val_loss: 1.0609 - val_accuracy: 0.6220\n",
            "Epoch 3/10\n",
            "50000/50000 [==============================] - 75s 1ms/sample - loss: 0.9742 - accuracy: 0.6575 - val_loss: 0.9781 - val_accuracy: 0.6547\n",
            "Epoch 4/10\n",
            "50000/50000 [==============================] - 75s 2ms/sample - loss: 0.8804 - accuracy: 0.6926 - val_loss: 0.9196 - val_accuracy: 0.6792\n",
            "Epoch 5/10\n",
            "50000/50000 [==============================] - 76s 2ms/sample - loss: 0.8135 - accuracy: 0.7147 - val_loss: 0.8814 - val_accuracy: 0.6924\n",
            "Epoch 6/10\n",
            "50000/50000 [==============================] - 74s 1ms/sample - loss: 0.7568 - accuracy: 0.7345 - val_loss: 0.8731 - val_accuracy: 0.7016\n",
            "Epoch 7/10\n",
            "50000/50000 [==============================] - 75s 2ms/sample - loss: 0.7129 - accuracy: 0.7514 - val_loss: 0.9169 - val_accuracy: 0.6889\n",
            "Epoch 8/10\n",
            "50000/50000 [==============================] - 76s 2ms/sample - loss: 0.6696 - accuracy: 0.7665 - val_loss: 0.8519 - val_accuracy: 0.7094\n",
            "Epoch 9/10\n",
            "50000/50000 [==============================] - 75s 1ms/sample - loss: 0.6344 - accuracy: 0.7771 - val_loss: 0.8579 - val_accuracy: 0.7164\n",
            "Epoch 10/10\n",
            "50000/50000 [==============================] - 75s 2ms/sample - loss: 0.5979 - accuracy: 0.7909 - val_loss: 0.8623 - val_accuracy: 0.7160\n"
          ],
          "name": "stdout"
        }
      ]
    },
    {
      "cell_type": "code",
      "metadata": {
        "id": "3wIRizNPK0e2",
        "colab_type": "code",
        "outputId": "a249b787-de2d-44f0-8544-463863824d9d",
        "colab": {
          "base_uri": "https://localhost:8080/",
          "height": 187
        }
      },
      "source": [
        "model.history.history['val_loss']"
      ],
      "execution_count": 0,
      "outputs": [
        {
          "output_type": "execute_result",
          "data": {
            "text/plain": [
              "[1.2050437866210937,\n",
              " 1.060867684173584,\n",
              " 0.9781365217208863,\n",
              " 0.91955510263443,\n",
              " 0.8814200457572937,\n",
              " 0.8730580043792725,\n",
              " 0.9169474625587464,\n",
              " 0.8518831953048706,\n",
              " 0.8578634965896607,\n",
              " 0.8623380537986756]"
            ]
          },
          "metadata": {
            "tags": []
          },
          "execution_count": 15
        }
      ]
    },
    {
      "cell_type": "code",
      "metadata": {
        "id": "dANxiVoGOzSd",
        "colab_type": "code",
        "colab": {}
      },
      "source": [
        ""
      ],
      "execution_count": 0,
      "outputs": []
    },
    {
      "cell_type": "markdown",
      "metadata": {
        "id": "R2kQo9q4Ysb2",
        "colab_type": "text"
      },
      "source": [
        "# Review de l'entraînement"
      ]
    },
    {
      "cell_type": "code",
      "metadata": {
        "id": "oFqTorloitEq",
        "colab_type": "code",
        "outputId": "a84a96a0-c08d-4b64-a0fc-b649955ce6d8",
        "colab": {
          "base_uri": "https://localhost:8080/",
          "height": 300
        }
      },
      "source": [
        "# On peut voir qu'on n'a pas encore atteint un plateau tout à fait sur le validation set, on pourrait améliorer le modèle en augmentant le nombre d'époques\n",
        "plt.plot(TrainingHistory.history['accuracy'], label='Accuracy sur le training Set')\n",
        "plt.plot(TrainingHistory.history['val_accuracy'], label = 'Accuracy sur le validation Set')\n",
        "plt.xlabel('Epoch')\n",
        "plt.ylabel('Accuracy')\n",
        "plt.ylim([0.0, 1])\n",
        "plt.legend(loc='lower right')"
      ],
      "execution_count": 0,
      "outputs": [
        {
          "output_type": "execute_result",
          "data": {
            "text/plain": [
              "<matplotlib.legend.Legend at 0x7f53909ba470>"
            ]
          },
          "metadata": {
            "tags": []
          },
          "execution_count": 12
        },
        {
          "output_type": "display_data",
          "data": {
            "image/png": "[encoded data removed]",
            "text/plain": [
              "<Figure size 432x288 with 1 Axes>"
            ]
          },
          "metadata": {
            "tags": []
          }
        }
      ]
    },
    {
      "cell_type": "markdown",
      "metadata": {
        "id": "FBLw4WH2kb7e",
        "colab_type": "text"
      },
      "source": [
        "# Visualisation des Prédictions\n"
      ]
    },
    {
      "cell_type": "code",
      "metadata": {
        "id": "V8nSoE8Ak9IM",
        "colab_type": "code",
        "outputId": "8277017d-e77b-4a8c-aa2f-020384545d2b",
        "colab": {
          "base_uri": "https://localhost:8080/",
          "height": 334
        }
      },
      "source": [
        "# Tire une image au hasard dans le test set, et regarde ce que le modèle a prédit\n",
        "RandomTestImageID = np.random.choice(len(test_labels), 1)[0]\n",
        "imageValue = test_images[RandomTestImageID]\n",
        "imageLabel = class_names[test_labels[RandomTestImageID][0]]\n",
        "\n",
        "plt.imshow(imageValue, cmap=plt.cm.binary)\n",
        "print (\"Le label de l'image n°{} est :\\n{}\".format(RandomTestImageID,str(imageLabel)))\n",
        "\n",
        "imageValue = np.expand_dims(imageValue, axis=0)\n",
        "predictions = model.predict(imageValue)\n",
        "classID = np.where(predictions==1)[1][0]\n",
        "print('\\nLe NN a prédit :', class_names[classID])"
      ],
      "execution_count": 0,
      "outputs": [
        {
          "output_type": "stream",
          "text": [
            "Le label de l'image n°6914 est :\n",
            "ship\n",
            "\n",
            "Le NN a prédit : ship\n"
          ],
          "name": "stdout"
        },
        {
          "output_type": "display_data",
          "data": {
            "image/png": "[encoded data removed]",
            "text/plain": [
              "<Figure size 432x288 with 1 Axes>"
            ]
          },
          "metadata": {
            "tags": []
          }
        }
      ]
    },
    {
      "cell_type": "markdown",
      "metadata": {
        "id": "k3iweWTMw5yV",
        "colab_type": "text"
      },
      "source": [
        "# Visualiser les poids du réseau\n",
        "On peut regarder quels sont les poids de la dernière couche du réseau de neurones\n"
      ]
    },
    {
      "cell_type": "code",
      "metadata": {
        "id": "Lw4rwSRqueDQ",
        "colab_type": "code",
        "outputId": "5a45e5b9-c7ef-4412-b84d-9310d04cb181",
        "colab": {
          "base_uri": "https://localhost:8080/",
          "height": 1000
        }
      },
      "source": [
        "# Les poids de la dernière couche\n",
        "# Matrice de 64 x 10\n",
        "model.layers[7].get_weights()[0]"
      ],
      "execution_count": 0,
      "outputs": [
        {
          "output_type": "execute_result",
          "data": {
            "text/plain": [
              "array([[-8.62263292e-02,  8.03648029e-03,  1.91214859e-01,\n",
              "        -1.32916808e-01, -1.63738370e-01, -3.39667909e-02,\n",
              "        -4.57935721e-01,  3.36481243e-01, -4.27164614e-01,\n",
              "         1.70000598e-01],\n",
              "       [ 1.38565004e-01, -1.94145232e-01, -2.73295015e-01,\n",
              "        -9.15130228e-02, -2.64365882e-01, -2.76973307e-01,\n",
              "         1.33785993e-01, -1.21798366e-01, -1.01901434e-01,\n",
              "        -4.64027887e-03],\n",
              "       [ 1.48634156e-02, -4.90431577e-01,  2.64272422e-01,\n",
              "        -1.08135745e-01, -3.18649262e-01, -2.93341696e-01,\n",
              "         2.49983743e-01, -3.08061063e-01, -2.24199221e-01,\n",
              "         3.74416679e-01],\n",
              "       [-4.06340957e-02,  2.57601917e-01, -1.96545288e-01,\n",
              "         2.33340397e-01, -1.64091438e-01, -1.43492138e-02,\n",
              "         1.10456660e-01, -2.29403317e-01, -2.60930032e-01,\n",
              "        -2.29786381e-01],\n",
              "       [-2.19846159e-01, -4.08509187e-03,  3.56608704e-02,\n",
              "        -1.06020838e-01, -3.56730312e-01,  1.42293215e-01,\n",
              "         6.76589310e-02, -2.86828995e-01, -2.79961675e-01,\n",
              "        -2.54863370e-02],\n",
              "       [-2.89809704e-01, -1.30646825e-01, -7.32734799e-02,\n",
              "        -1.39284253e-01, -2.72739381e-01, -1.69880986e-01,\n",
              "        -2.39043087e-01,  5.63948691e-01,  1.78913444e-01,\n",
              "         1.09872729e-01],\n",
              "       [ 6.47320226e-02, -2.01137260e-01,  2.11138204e-01,\n",
              "         2.01146528e-01, -2.09781870e-01, -8.04640427e-02,\n",
              "         4.10117063e-04, -1.08849900e-02, -4.92340662e-02,\n",
              "        -1.00342467e-01],\n",
              "       [ 3.08075368e-01,  2.62368441e-01, -1.69277769e-02,\n",
              "        -2.25067556e-01,  1.28206879e-01,  2.10551382e-03,\n",
              "         9.11235213e-02,  2.16893107e-01, -4.52297479e-01,\n",
              "         2.77439535e-01],\n",
              "       [-1.81122214e-01, -1.91711709e-01,  3.36387515e-01,\n",
              "         1.89159691e-01, -1.34153813e-01, -3.32429826e-01,\n",
              "         2.98275799e-01,  8.55328888e-02,  2.67749012e-01,\n",
              "        -3.50918025e-01],\n",
              "       [ 9.20957997e-02, -2.46795475e-01,  1.14387006e-01,\n",
              "         2.41017297e-01, -2.97833651e-01, -9.05574486e-02,\n",
              "        -8.70251283e-02, -5.08834608e-03, -2.41799697e-01,\n",
              "         6.57026842e-02],\n",
              "       [-7.72806481e-02, -1.92657948e-01,  2.68495023e-01,\n",
              "         2.42767558e-01, -2.85996646e-01, -2.57377923e-01,\n",
              "        -1.80000603e-01,  1.49127394e-01, -2.33922109e-01,\n",
              "        -5.29247969e-02],\n",
              "       [ 1.79702789e-01, -3.71915966e-01,  2.57049948e-01,\n",
              "        -2.20279098e-01,  2.00752839e-01, -2.48649400e-02,\n",
              "         1.11870684e-01, -3.23511511e-01, -1.06901824e-01,\n",
              "        -1.98119730e-01],\n",
              "       [-1.25657737e-01,  7.71158934e-02, -2.19256550e-01,\n",
              "         2.51411237e-02,  3.89991254e-02, -1.64164573e-01,\n",
              "         1.59585550e-01,  7.22083598e-02,  2.12338448e-01,\n",
              "         3.48096378e-02],\n",
              "       [-5.16799629e-01,  5.67813218e-02,  3.61573510e-02,\n",
              "         2.65346486e-02,  3.64807099e-01,  1.85557246e-01,\n",
              "         1.62015542e-01, -1.67714372e-01, -4.50689197e-01,\n",
              "        -2.18902722e-01],\n",
              "       [-1.95642456e-01, -1.71190709e-01, -1.80091277e-01,\n",
              "         1.51586249e-01, -9.86973271e-02,  8.54784921e-02,\n",
              "        -4.71914262e-01, -1.50370628e-01, -4.34045553e-01,\n",
              "         2.06122160e-01],\n",
              "       [ 2.40601435e-01, -1.18068591e-01, -1.18178748e-01,\n",
              "        -2.39589527e-01, -2.38652214e-01, -1.82752758e-01,\n",
              "        -2.89587080e-01,  9.91812441e-03, -1.08231932e-01,\n",
              "        -7.64023885e-02],\n",
              "       [ 4.00890559e-02,  1.68123767e-01, -2.39364669e-01,\n",
              "        -7.94863626e-02, -2.84645081e-01, -2.53683627e-01,\n",
              "        -1.52394362e-02, -1.50977135e-01, -3.65366265e-02,\n",
              "        -9.72731858e-02],\n",
              "       [ 3.40473086e-01,  1.02792129e-01,  1.43221095e-01,\n",
              "        -1.12838633e-01, -2.13015899e-01,  9.14854091e-03,\n",
              "         1.26180798e-01, -5.33326507e-01, -1.72655925e-01,\n",
              "         1.58482030e-01],\n",
              "       [-2.47487590e-01, -1.48382604e-01,  2.41306677e-01,\n",
              "         1.15170144e-01,  1.10229716e-01, -4.52321656e-02,\n",
              "         4.81768250e-02,  2.35885501e-01, -3.52930367e-01,\n",
              "        -3.27137947e-01],\n",
              "       [ 2.63315529e-01,  1.00434959e-01, -2.50827223e-01,\n",
              "         2.70948559e-01, -1.52629256e-01,  1.24935023e-02,\n",
              "        -2.40901813e-01,  9.72674042e-02, -2.23624423e-01,\n",
              "        -2.16098189e-01],\n",
              "       [ 1.52774930e-01,  4.41269837e-02, -1.59552559e-01,\n",
              "        -6.20599166e-02, -1.29948659e-02, -2.11219341e-01,\n",
              "         2.32925102e-01,  2.62893647e-01, -1.84587181e-01,\n",
              "        -2.33157620e-01],\n",
              "       [ 2.87986342e-02, -7.45821893e-02, -4.59950924e-01,\n",
              "         6.61485083e-03,  4.34422381e-02, -1.14742979e-01,\n",
              "         2.49588981e-01, -4.03379261e-01,  5.05635627e-02,\n",
              "         5.42393066e-02],\n",
              "       [ 9.20067281e-02,  3.41058001e-02, -3.63755748e-02,\n",
              "         1.32479131e-01, -2.15476722e-01,  6.18464947e-02,\n",
              "        -3.72372046e-02, -1.60311256e-02, -1.01842679e-01,\n",
              "         4.59885858e-02],\n",
              "       [ 6.79704174e-02, -1.23290695e-01, -2.37043425e-02,\n",
              "         1.93986207e-01,  3.82906720e-02, -5.86240701e-02,\n",
              "        -1.67889997e-01,  1.13282621e-01,  1.61885768e-01,\n",
              "        -5.74697554e-02],\n",
              "       [-1.77220494e-01, -3.47620070e-01, -2.01177835e-01,\n",
              "         2.14861527e-01,  2.96877384e-01, -1.46764189e-01,\n",
              "         2.82633156e-01, -4.19878632e-01, -2.79295921e-01,\n",
              "        -1.51625052e-01],\n",
              "       [ 1.84640944e-01, -3.87307584e-01, -9.70067978e-02,\n",
              "        -2.78213620e-01,  2.01210901e-01, -5.22764623e-02,\n",
              "        -4.47006896e-02,  3.60380232e-01,  4.18524116e-01,\n",
              "         5.68912663e-02],\n",
              "       [-1.22462869e-01, -9.53571722e-02, -2.72049814e-01,\n",
              "        -1.47639900e-01,  2.01273426e-01,  2.06467938e-02,\n",
              "        -4.01386946e-01,  2.06820890e-01, -1.87330060e-02,\n",
              "        -4.86250401e-01],\n",
              "       [ 2.44530603e-01,  1.99939504e-01,  4.33531404e-02,\n",
              "        -1.82190597e-01,  4.25728172e-01, -1.44834280e-01,\n",
              "        -4.02645051e-01, -3.10072750e-02,  3.26414436e-01,\n",
              "        -1.66856930e-01],\n",
              "       [-3.32576752e-01,  1.29252106e-01, -2.15893820e-01,\n",
              "         2.19144538e-01, -4.33709949e-01,  9.59528089e-02,\n",
              "        -1.95190846e-03, -2.05540266e-02, -4.42503214e-01,\n",
              "         1.44044697e-01],\n",
              "       [-2.81316429e-01, -2.27644145e-01, -1.06175460e-01,\n",
              "         1.82258084e-01, -1.03609502e-01, -2.87814349e-01,\n",
              "         2.53936946e-01, -1.10435471e-01,  5.55588491e-02,\n",
              "        -4.65577692e-01],\n",
              "       [-6.63759261e-02,  3.26254338e-01,  2.12235108e-01,\n",
              "        -9.11930799e-02, -4.23852324e-01,  2.37436980e-01,\n",
              "        -1.86494246e-01, -1.34126171e-01, -1.50146529e-01,\n",
              "         2.06842124e-01],\n",
              "       [-1.89844698e-01,  1.67960107e-01,  1.71980977e-01,\n",
              "         1.43080249e-01,  1.46273553e-01,  3.33466032e-03,\n",
              "        -6.60754517e-02,  1.49976388e-01, -1.46392420e-01,\n",
              "        -2.21131280e-01],\n",
              "       [-2.90372372e-01, -3.89803886e-01,  1.28420085e-01,\n",
              "         1.26950651e-01,  1.94848135e-01,  1.59333825e-01,\n",
              "        -3.89166683e-01,  2.38828972e-01,  2.17855170e-01,\n",
              "        -3.48366141e-01],\n",
              "       [-2.65902549e-01, -1.22439452e-01, -2.09203854e-01,\n",
              "        -2.41227280e-02, -1.66658565e-01, -3.08861434e-01,\n",
              "        -5.36062777e-01, -1.19655810e-01,  3.78258079e-01,\n",
              "         2.70232201e-01],\n",
              "       [ 2.77455926e-01,  3.73832099e-02, -3.77702832e-01,\n",
              "         7.49514624e-02, -4.59965348e-01, -8.61588418e-02,\n",
              "        -1.65735126e-01, -3.28659594e-01,  3.60526502e-01,\n",
              "         1.09666198e-01],\n",
              "       [ 1.13444515e-01,  2.92287692e-02,  5.46650179e-02,\n",
              "         2.48645842e-01, -5.96183278e-02,  3.13699365e-01,\n",
              "         3.58645409e-01, -2.32184097e-01,  6.27299398e-02,\n",
              "        -3.55115980e-01],\n",
              "       [-1.30805776e-01,  3.92765135e-01,  1.61767259e-01,\n",
              "        -7.08576515e-02, -3.54921728e-01, -1.77107558e-01,\n",
              "         3.44305843e-01,  1.77417934e-01,  3.01345408e-01,\n",
              "        -2.08896518e-01],\n",
              "       [-1.28594628e-02, -1.68450214e-02, -5.40585592e-02,\n",
              "        -2.49735326e-01,  2.12497026e-01,  1.45744830e-01,\n",
              "        -2.04009097e-02, -2.56554186e-02, -1.09859392e-01,\n",
              "        -5.42857312e-02],\n",
              "       [-1.78768039e-02, -3.66940856e-01,  3.47744763e-01,\n",
              "        -7.74830580e-02, -3.10290843e-01,  1.70393705e-01,\n",
              "        -4.23716635e-01, -6.39719740e-02,  6.17695227e-02,\n",
              "        -1.49406925e-01],\n",
              "       [-4.45150942e-01, -1.15548126e-01,  9.63732693e-03,\n",
              "        -2.09495693e-01, -2.99911916e-01,  2.70768702e-01,\n",
              "         1.54096887e-01, -3.05368662e-01,  1.38499394e-01,\n",
              "         1.60909414e-01],\n",
              "       [ 2.15807512e-01,  2.54116029e-01,  1.74475506e-01,\n",
              "        -4.16589305e-02,  4.97478023e-02, -3.03780258e-01,\n",
              "         1.11031085e-01, -3.14012945e-01,  1.98497161e-01,\n",
              "         1.18188992e-01],\n",
              "       [-2.69791931e-01,  2.78513998e-01, -3.98926258e-01,\n",
              "         9.19834226e-02, -6.26173615e-02,  3.30246419e-01,\n",
              "        -1.32102743e-01, -4.32458594e-02,  2.48495162e-01,\n",
              "        -1.23962343e-01],\n",
              "       [-3.93566817e-01, -3.51110756e-01,  4.37429436e-02,\n",
              "         1.18231744e-01,  2.14443117e-01,  2.03941062e-01,\n",
              "         6.58728778e-02, -4.41700630e-02,  3.54811639e-01,\n",
              "         8.96256492e-02],\n",
              "       [-2.16613084e-01,  1.30686745e-01, -6.19027019e-02,\n",
              "        -1.96479142e-01,  4.61482435e-01, -2.72863895e-01,\n",
              "        -1.68392390e-01,  5.65209985e-02, -2.65726000e-01,\n",
              "         1.15590721e-01],\n",
              "       [-1.38919383e-01, -4.61145863e-02, -1.80534840e-01,\n",
              "        -1.18381567e-01, -1.85926497e-01,  2.13258743e-01,\n",
              "        -2.37878755e-01, -1.43320367e-01, -1.51211768e-01,\n",
              "        -1.95984140e-01],\n",
              "       [ 2.98354596e-01,  2.29728639e-01, -8.14686641e-02,\n",
              "        -1.81449011e-01, -1.58579171e-01, -2.13708356e-01,\n",
              "        -1.59762487e-01,  4.00952905e-01, -1.87724456e-01,\n",
              "         1.21825874e-01],\n",
              "       [-3.01427335e-01, -9.73133072e-02,  1.45076573e-01,\n",
              "         2.30648667e-01, -3.22709829e-01,  1.11498520e-01,\n",
              "        -2.94109017e-01, -4.86956745e-01, -1.44590452e-01,\n",
              "         3.57700527e-01],\n",
              "       [ 3.53356719e-01,  9.13338661e-02,  2.00321361e-01,\n",
              "        -2.39131957e-01,  4.06988472e-01, -1.38001665e-01,\n",
              "        -5.58386557e-02, -4.54215109e-01, -1.29110336e-01,\n",
              "        -5.10964036e-01],\n",
              "       [-1.41707018e-01, -1.03522837e-01,  5.27720042e-02,\n",
              "        -2.34041497e-01,  1.31296650e-01,  9.02029946e-02,\n",
              "        -1.82574153e-01, -2.24606097e-01, -2.31113240e-01,\n",
              "         2.21700177e-01],\n",
              "       [ 2.21009687e-01, -5.65198183e-01,  2.63282418e-01,\n",
              "         1.96805984e-01,  2.10846618e-01,  9.53630805e-02,\n",
              "        -1.14408664e-01, -4.65721302e-02, -8.18919986e-02,\n",
              "        -3.63787532e-01],\n",
              "       [ 2.68898368e-01, -1.42103001e-01,  3.28607440e-01,\n",
              "        -1.99834421e-01, -3.37964952e-01, -1.87503308e-01,\n",
              "         2.85587817e-01, -2.45642543e-01,  1.06601566e-01,\n",
              "        -8.85961130e-02],\n",
              "       [-3.77189815e-02, -3.62041861e-01, -8.62304866e-02,\n",
              "         1.69461399e-01,  1.13853909e-01,  3.42133999e-01,\n",
              "         4.30081896e-02,  3.28673035e-01, -2.96771765e-01,\n",
              "         1.90232471e-01],\n",
              "       [ 1.57350570e-01, -6.98574260e-02,  2.21544594e-01,\n",
              "        -2.72819936e-01, -2.45142549e-01, -2.73550898e-01,\n",
              "         1.66736335e-01,  1.31889716e-01, -9.52098295e-02,\n",
              "         2.60934889e-01],\n",
              "       [ 1.69726357e-01,  6.98880106e-02,  1.15737177e-01,\n",
              "        -2.05135848e-02,  8.96060690e-02, -1.46508053e-01,\n",
              "        -2.44093880e-01, -2.46621937e-01,  2.52571434e-01,\n",
              "        -4.70153019e-02],\n",
              "       [-8.38522762e-02,  3.59693654e-02,  1.73713803e-01,\n",
              "         7.81226903e-02,  5.10091148e-02,  1.57030031e-01,\n",
              "        -2.75943484e-02, -1.11047901e-01, -1.76552087e-01,\n",
              "         1.88218579e-01],\n",
              "       [-5.75191714e-02,  1.24692939e-01, -2.50113219e-01,\n",
              "        -7.84912333e-03, -1.85870633e-01,  1.55567273e-03,\n",
              "        -2.32727639e-02, -2.27381006e-01, -1.00338280e-01,\n",
              "         2.35659227e-01],\n",
              "       [-2.16302752e-01, -1.99072540e-01, -2.80003637e-01,\n",
              "        -2.15966389e-01,  7.42218718e-02,  1.85826138e-01,\n",
              "        -1.21701978e-01,  1.01640694e-01,  1.56239972e-01,\n",
              "         1.77861035e-01],\n",
              "       [-2.51494229e-01,  2.85451412e-01, -1.75079644e-01,\n",
              "        -6.99161142e-02, -2.06581548e-01, -3.04535389e-01,\n",
              "        -3.28612298e-01, -1.92566738e-01,  1.34562746e-01,\n",
              "         3.13282907e-01],\n",
              "       [-1.36351883e-02, -2.11992681e-01, -1.67648062e-01,\n",
              "        -5.19538485e-02, -2.78067082e-01,  1.75100453e-02,\n",
              "         2.51428157e-01,  3.27653944e-01, -1.76755488e-01,\n",
              "        -2.78036386e-01],\n",
              "       [ 1.14909761e-01,  2.53361374e-01,  3.05946261e-01,\n",
              "        -1.65791944e-01, -3.49266738e-01,  2.46815413e-01,\n",
              "        -1.11182384e-01, -8.38079900e-02, -5.95329404e-02,\n",
              "         7.64413327e-02],\n",
              "       [ 2.31326833e-01, -1.65194750e-01,  2.34373644e-01,\n",
              "        -2.34227121e-01,  1.41332477e-01,  2.09087163e-01,\n",
              "        -2.08561823e-01,  7.28007108e-02,  1.00018397e-01,\n",
              "         8.89447033e-02],\n",
              "       [-4.49668646e-01,  4.56313074e-01, -3.45649868e-02,\n",
              "        -4.30517465e-01, -2.04410449e-01, -3.39816540e-01,\n",
              "         2.99728841e-01, -2.36775115e-01, -1.81610912e-01,\n",
              "        -2.88011730e-01],\n",
              "       [-1.88101158e-01,  2.60819308e-03,  1.98810712e-01,\n",
              "        -7.54815061e-03,  1.87640816e-01, -2.03651920e-01,\n",
              "         1.41538046e-02, -8.79409984e-02, -2.00221106e-01,\n",
              "         1.04962185e-01],\n",
              "       [ 1.32826611e-01,  1.07169993e-01,  3.68297175e-02,\n",
              "        -5.48214018e-02,  3.96058671e-02,  2.61159480e-01,\n",
              "         2.17594966e-01,  1.52759790e-01, -2.98219244e-03,\n",
              "         1.57386903e-02]], dtype=float32)"
            ]
          },
          "metadata": {
            "tags": []
          },
          "execution_count": 83
        }
      ]
    },
    {
      "cell_type": "code",
      "metadata": {
        "id": "cbKb9ipVJU0E",
        "colab_type": "code",
        "colab": {}
      },
      "source": [
        ""
      ],
      "execution_count": 0,
      "outputs": []
    },
    {
      "cell_type": "code",
      "metadata": {
        "id": "TT34kOGqJVRC",
        "colab_type": "code",
        "colab": {
          "base_uri": "https://localhost:8080/",
          "height": 34
        },
        "outputId": "98e30bc4-3115-4e76-f57e-f2ec284f3931"
      },
      "source": [
        "!git init"
      ],
      "execution_count": 1,
      "outputs": [
        {
          "output_type": "stream",
          "text": [
            "Initialized empty Git repository in /content/.git/\n"
          ],
          "name": "stdout"
        }
      ]
    },
    {
      "cell_type": "code",
      "metadata": {
        "id": "kgNam34VghbC",
        "colab_type": "code",
        "colab": {}
      },
      "source": [
        "!git config --global user.email \"hansglick@gmail.com\""
      ],
      "execution_count": 0,
      "outputs": []
    },
    {
      "cell_type": "code",
      "metadata": {
        "id": "BT2SXIUig2C1",
        "colab_type": "code",
        "colab": {}
      },
      "source": [
        "!git config --global user.username \"HansGlick\""
      ],
      "execution_count": 0,
      "outputs": []
    },
    {
      "cell_type": "markdown",
      "metadata": {
        "id": "noRhJA4bg9PQ",
        "colab_type": "text"
      },
      "source": [
        "!git remote add origin https://github.com/hansglick/colabtest.git\n"
      ]
    },
    {
      "cell_type": "code",
      "metadata": {
        "id": "OLksr7PLhF5B",
        "colab_type": "code",
        "colab": {}
      },
      "source": [
        "!git add ."
      ],
      "execution_count": 0,
      "outputs": []
    },
    {
      "cell_type": "code",
      "metadata": {
        "id": "eTMjwnfIhJp-",
        "colab_type": "code",
        "colab": {
          "base_uri": "https://localhost:8080/",
          "height": 51
        },
        "outputId": "feba723e-95d6-45c5-8953-4b69aea0d529"
      },
      "source": [
        "!git push -u origin master"
      ],
      "execution_count": 7,
      "outputs": [
        {
          "output_type": "stream",
          "text": [
            "error: src refspec master does not match any.\n",
            "error: failed to push some refs to 'https://github.com/hansglick/colabtest.git'\n"
          ],
          "name": "stdout"
        }
      ]
    }
  ]
}